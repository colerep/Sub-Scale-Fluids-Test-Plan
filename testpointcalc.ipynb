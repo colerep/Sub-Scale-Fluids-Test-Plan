{
 "cells": [
  {
   "cell_type": "markdown",
   "metadata": {},
   "source": [
    "This code steps through state point calculations for sub-scale fluids testing"
   ]
  },
  {
   "cell_type": "code",
   "execution_count": null,
   "metadata": {},
   "outputs": [],
   "source": [
    "# import needed libraries\n",
    "import CoolProp.CoolProp as CP # fluid properties\n",
    "import math # need for pi\n",
    "import pint # for unit tracking"
   ]
  },
  {
   "cell_type": "code",
   "execution_count": 35,
   "metadata": {},
   "outputs": [
    {
     "name": "stdout",
     "output_type": "stream",
     "text": [
      "Nozzle Inlet Density:  66.156 kilogram / meter ** 3\n",
      "Nozzle Inlet Enthalpy:  468463.769 kilojoule / kilogram\n"
     ]
    }
   ],
   "source": [
    "# setup unit tracking - Pint settings\n",
    "ureg = pint.UnitRegistry() \n",
    "ureg.default_format = '.3f' # truncate to 3 decimal places\n",
    "Q_ = ureg.Quantity # shortcut for extracting quantity\n",
    "\n",
    "# import nozzle inputs - can change units here and calculations will maintain correct\n",
    "P_in_nozzle = Q_(30, ureg.bar) \n",
    "T_in_nozzle = Q_(20, ureg.degC)\n",
    "mdot_nozzle =  Q_(20 ,ureg.kilogram/ ureg.second) \n",
    "\n",
    "# calculate rest of nozzle inlet properties\n",
    "D_in_nozzle = Q_(CP.PropsSI('D', 'T', T_in_nozzle.to(ureg.kelvin).magnitude,  'P', P_in_nozzle.to(ureg.Pa).magnitude, 'CO2'), ureg.kilogram/ureg.meter**3)\n",
    "print(\"Nozzle Inlet Density: \",D_in_nozzle)\n",
    "H_in_nozzle = Q_(CP.PropsSI('H', 'T', T_in_nozzle.to(ureg.kelvin).magnitude,  'P', P_in_nozzle.to(ureg.Pa).magnitude, 'CO2'), ureg.kilojoule/ureg.kilogram)\n",
    "print(\"Nozzle Inlet Enthalpy: \",H_in_nozzle)"
   ]
  },
  {
   "cell_type": "code",
   "execution_count": null,
   "metadata": {},
   "outputs": [],
   "source": [
    "# Calculate pressure drop\n",
    "\n",
    "# nozzle parameters\n",
    "D1 = 3 # m\n",
    "D2 = 0.8 # m\n",
    "A1 = math.pi * (D1/2)**2  # Calculate inlet area\n",
    "\n",
    "# calcs\n",
    "phi = mdot_nozzle / A1  # Calculate mass flux\n",
    "delta_p = (phi**2 / (2 * D_in_nozzle)) * ( (D1 / D2)**4 - 1) # Pa"
   ]
  }
 ],
 "metadata": {
  "kernelspec": {
   "display_name": "Python 3",
   "language": "python",
   "name": "python3"
  },
  "language_info": {
   "codemirror_mode": {
    "name": "ipython",
    "version": 3
   },
   "file_extension": ".py",
   "mimetype": "text/x-python",
   "name": "python",
   "nbconvert_exporter": "python",
   "pygments_lexer": "ipython3",
   "version": "3.11.7"
  }
 },
 "nbformat": 4,
 "nbformat_minor": 2
}
